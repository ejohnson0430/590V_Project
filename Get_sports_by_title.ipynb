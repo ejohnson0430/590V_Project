{
 "cells": [
  {
   "cell_type": "code",
   "execution_count": 1,
   "metadata": {},
   "outputs": [],
   "source": [
    "import pandas as pd\n",
    "import csv\n",
    "\n",
    "\n",
    "#creates df \n",
    "\n",
    "data = pd.read_csv(\"the-pudding-winningest-cities-in-sports/titles.csv\")\n",
    "indexNames = data[(data['sport'] != 'NFL') & (data['sport'] != 'NBA') & (data['sport'] != 'MLB') & (data['sport'] != 'NHL') ].index\n",
    "data.drop(indexNames , inplace=True)\n",
    "new_df = data[['year', 'sport', 'winner_metro']]\n",
    "\n",
    "\n",
    "#gets title count by sport \n",
    "\n",
    "metros = set(new_df['winner_metro'].values)\n",
    "sports = set(new_df['sport'].values)\n",
    "\n",
    "titles_list = []\n",
    "\n",
    "for metro in metros:\n",
    "    metro_list = []\n",
    "    metro_list.append(metro)\n",
    "    total = 0\n",
    "    for sport in sports:\n",
    "        sport_count = len(new_df[(data['sport'] == sport) & (data['winner_metro'] == metro)])\n",
    "        total += sport_count\n",
    "        metro_list.append(sport_count) \n",
    "    metro_list.append(total)\n",
    "    titles_list.append(metro_list)\n",
    "    \n",
    "\n",
    "#creates CSV\n",
    "    \n",
    "with open('titles_by_sport.csv', 'w', newline='') as file:\n",
    "    writer = csv.writer(file)\n",
    "    writer.writerow([\"metro_area\", \"MLB titles\", \"NHL titles\", \"NBA titles\", \"NFL titles\", 'Total titles'])\n",
    "    for title in titles_list:\n",
    "        writer.writerow(title)\n",
    "\n",
    "\n",
    "\n",
    "\n",
    "\n",
    "\n"
   ]
  },
  {
   "cell_type": "code",
   "execution_count": null,
   "metadata": {},
   "outputs": [],
   "source": []
  }
 ],
 "metadata": {
  "kernelspec": {
   "display_name": "Python 3",
   "language": "python",
   "name": "python3"
  },
  "language_info": {
   "codemirror_mode": {
    "name": "ipython",
    "version": 3
   },
   "file_extension": ".py",
   "mimetype": "text/x-python",
   "name": "python",
   "nbconvert_exporter": "python",
   "pygments_lexer": "ipython3",
   "version": "3.7.1"
  }
 },
 "nbformat": 4,
 "nbformat_minor": 2
}
